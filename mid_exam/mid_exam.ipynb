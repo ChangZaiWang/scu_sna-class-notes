{
 "cells": [
  {
   "cell_type": "code",
   "execution_count": 1,
   "metadata": {},
   "outputs": [],
   "source": [
    "import networkx as nx\n",
    "import matplotlib.pyplot as plt"
   ]
  },
  {
   "attachments": {},
   "cell_type": "markdown",
   "metadata": {},
   "source": [
    "# B-1"
   ]
  },
  {
   "cell_type": "code",
   "execution_count": 2,
   "metadata": {},
   "outputs": [
    {
     "data": {
      "image/png": "[encoded data removed]",
      "text/plain": [
       "<Figure size 432x288 with 1 Axes>"
      ]
     },
     "metadata": {},
     "output_type": "display_data"
    }
   ],
   "source": [
    "G = nx.Graph()\n",
    "G.add_edge('Alice', 'Bob')\n",
    "G.add_edge('Alice', 'May')\n",
    "G.add_edge('Bob', 'May')\n",
    "G.add_edge('May', 'John')\n",
    "G.add_edge('John', 'Lee')\n",
    "G.add_edge('John', 'Kelly')\n",
    "\n",
    "\n",
    "# Explicitly set positions\n",
    "pos = {'Alice':(0,2), 'Bob':(0,0), 'May':(1,1), 'John':(2,1), 'Lee':(3,2), 'Kelly':(3,0)}\n",
    "\n",
    "options = {\n",
    "    'font_size': 12,\n",
    "    'node_size': 3000,\n",
    "    'node_color': 'white',\n",
    "    'edgecolors': 'black',\n",
    "    'linewidths': 3,\n",
    "    'width': 3\n",
    "}\n",
    "\n",
    "nx.draw_networkx(G, pos, **options)\n",
    "\n",
    "# Set margins for the axes so that nodes aren't clipped\n",
    "ax = plt.gca()\n",
    "ax.margins(0.20)\n",
    "plt.axis('off')\n",
    "plt.show()"
   ]
  },
  {
   "cell_type": "code",
   "execution_count": 3,
   "metadata": {},
   "outputs": [
    {
     "data": {
      "text/plain": [
       "{'Alice': 0.4,\n",
       " 'Bob': 0.4,\n",
       " 'May': 0.6000000000000001,\n",
       " 'John': 0.6000000000000001,\n",
       " 'Lee': 0.2,\n",
       " 'Kelly': 0.2}"
      ]
     },
     "execution_count": 3,
     "metadata": {},
     "output_type": "execute_result"
    }
   ],
   "source": [
    "nx.degree_centrality(G)"
   ]
  },
  {
   "cell_type": "code",
   "execution_count": 4,
   "metadata": {},
   "outputs": [
    {
     "data": {
      "text/plain": [
       "{'Alice': 0.5,\n",
       " 'Bob': 0.5,\n",
       " 'May': 0.7142857142857143,\n",
       " 'John': 0.7142857142857143,\n",
       " 'Lee': 0.45454545454545453,\n",
       " 'Kelly': 0.45454545454545453}"
      ]
     },
     "execution_count": 4,
     "metadata": {},
     "output_type": "execute_result"
    }
   ],
   "source": [
    "nx.closeness_centrality(G)"
   ]
  },
  {
   "cell_type": "code",
   "execution_count": 12,
   "metadata": {},
   "outputs": [
    {
     "data": {
      "text/plain": [
       "{'Alice': 0.0,\n",
       " 'Bob': 0.0,\n",
       " 'May': 0.6000000000000001,\n",
       " 'John': 0.7000000000000001,\n",
       " 'Lee': 0.0,\n",
       " 'Kelly': 0.0}"
      ]
     },
     "execution_count": 12,
     "metadata": {},
     "output_type": "execute_result"
    }
   ],
   "source": [
    "nx.betweenness_centrality(G, normalized=True)"
   ]
  },
  {
   "attachments": {},
   "cell_type": "markdown",
   "metadata": {},
   "source": [
    "# B-2"
   ]
  },
  {
   "cell_type": "code",
   "execution_count": null,
   "metadata": {},
   "outputs": [],
   "source": []
  }
 ],
 "metadata": {
  "kernelspec": {
   "display_name": "base",
   "language": "python",
   "name": "python3"
  },
  "language_info": {
   "codemirror_mode": {
    "name": "ipython",
    "version": 3
   },
   "file_extension": ".py",
   "mimetype": "text/x-python",
   "name": "python",
   "nbconvert_exporter": "python",
   "pygments_lexer": "ipython3",
   "version": "3.9.12"
  },
  "orig_nbformat": 4,
  "vscode": {
   "interpreter": {
    "hash": "1c011f72ddccfa40fa7f9219d8aba06524d4a9687c3ce10166653b3937ac9e75"
   }
  }
 },
 "nbformat": 4,
 "nbformat_minor": 2
}
