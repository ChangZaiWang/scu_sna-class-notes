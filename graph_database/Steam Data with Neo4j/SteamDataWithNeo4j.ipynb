{
 "cells": [
  {
   "cell_type": "code",
   "execution_count": 1,
   "metadata": {},
   "outputs": [],
   "source": [
    "import pandas as pd"
   ]
  },
  {
   "attachments": {},
   "cell_type": "markdown",
   "metadata": {},
   "source": [
    "# Preprocessing"
   ]
  },
  {
   "cell_type": "code",
   "execution_count": 2,
   "metadata": {},
   "outputs": [],
   "source": [
    "steam_df = pd.read_csv('steam-200k.csv', encoding='utf-8')\n",
    "\n",
    "player_df = pd.DataFrame(steam_df['user_id'].unique(), columns=['user_id'])\n",
    "player_df['id'] = player_df.index + 1\n",
    "player_df = player_df.reindex(columns=['id', 'user_id'])\n",
    "\n",
    "game_df = pd.DataFrame(steam_df['game_title'].unique(), columns=['game_title'])\n",
    "game_df['id'] = game_df.index + 1\n",
    "game_df = game_df.reindex(columns=['id', 'game_title'])\n",
    "\n",
    "play = {'from_id': steam_df['user_id'], 'to_id': steam_df['game_title'], 'play_hour': steam_df['play_hour']}\n",
    "play_df = pd.DataFrame(data=play)\n",
    "uid_dic = dict(zip(player_df['user_id'], player_df['id']))\n",
    "game_dic = dict(zip(game_df['game_title'], game_df['id']))\n",
    "play_df['from_id'] = play_df['from_id'].replace(uid_dic)\n",
    "play_df['to_id'] = play_df['to_id'].replace(game_dic)"
   ]
  },
  {
   "cell_type": "code",
   "execution_count": 3,
   "metadata": {},
   "outputs": [],
   "source": [
    "play_df.to_csv('PLAY.csv', encoding='utf-8', index=False)\n",
    "player_df.to_csv('Player.csv', encoding='utf-8', index=False)\n",
    "game_df.to_csv('Game.csv', encoding='utf-8', index=False)"
   ]
  },
  {
   "attachments": {},
   "cell_type": "markdown",
   "metadata": {},
   "source": [
    "# Connect to database and get data"
   ]
  },
  {
   "cell_type": "code",
   "execution_count": 4,
   "metadata": {},
   "outputs": [],
   "source": [
    "from neo4j import GraphDatabase"
   ]
  },
  {
   "cell_type": "code",
   "execution_count": 5,
   "metadata": {},
   "outputs": [],
   "source": [
    "# Information of connection\n",
    "URI = 'neo4j+s://eb65d4b0.databases.neo4j.io'\n",
    "USER = 'neo4j'\n",
    "PASSWORD = 'Euk7C4-PnXiMy0ZFmBqG_pZGzshLkQ9NLb0P6ZKHVHQ'"
   ]
  },
  {
   "cell_type": "code",
   "execution_count": 6,
   "metadata": {},
   "outputs": [],
   "source": [
    "# Make connection\n",
    "driver = GraphDatabase.driver(URI, auth=(USER, PASSWORD))\n",
    "session = driver.session()"
   ]
  },
  {
   "attachments": {},
   "cell_type": "markdown",
   "metadata": {},
   "source": [
    "# Q1"
   ]
  },
  {
   "cell_type": "code",
   "execution_count": 7,
   "metadata": {},
   "outputs": [],
   "source": [
    "query = 'match (u:Player)-[p:PLAY]->(g:Game {game_title:\"Sid Meier\\'s Civilization V\"}) return u,p,g'\n",
    "records = session.run(query)\n",
    "\n",
    "# Extract result data from neo4j\n",
    "play_hour = []\n",
    "player = []\n",
    "for record in records:\n",
    "    play_hour.append(record['p']['play_hour'])\n",
    "    player.append(record['u']['user_id'])\n",
    "\n",
    "# Close connection\n",
    "driver.close()"
   ]
  },
  {
   "attachments": {},
   "cell_type": "markdown",
   "metadata": {},
   "source": [
    "## Q1-1"
   ]
  },
  {
   "cell_type": "code",
   "execution_count": 8,
   "metadata": {},
   "outputs": [
    {
     "name": "stdout",
     "output_type": "stream",
     "text": [
      "總共有 554 人玩過 Sid Meier's Civilization V\n"
     ]
    }
   ],
   "source": [
    "print('總共有', len(player), '人玩過 Sid Meier\\'s Civilization V')"
   ]
  },
  {
   "attachments": {},
   "cell_type": "markdown",
   "metadata": {},
   "source": [
    "## Q1-2"
   ]
  },
  {
   "cell_type": "code",
   "execution_count": 9,
   "metadata": {},
   "outputs": [
    {
     "name": "stdout",
     "output_type": "stream",
     "text": [
      "平均遊玩時間為 180.18 小時\n"
     ]
    }
   ],
   "source": [
    "import numpy as np\n",
    "print('平均遊玩時間為', round(np.mean(play_hour), 2), '小時')"
   ]
  },
  {
   "attachments": {},
   "cell_type": "markdown",
   "metadata": {},
   "source": [
    "# Q2"
   ]
  },
  {
   "cell_type": "code",
   "execution_count": 10,
   "metadata": {},
   "outputs": [],
   "source": [
    "import json"
   ]
  },
  {
   "cell_type": "code",
   "execution_count": 11,
   "metadata": {},
   "outputs": [],
   "source": [
    "query = '''\n",
    "match (p:Player)-[r:PLAY]->(g:Game) \n",
    "with g.game_title AS game_name, avg(r.play_hour) as average_play_hour \n",
    "return game_name, average_play_hour'''\n",
    "records = session.run(query)\n",
    "\n",
    "# Extract result data from neo4j\n",
    "game_name = []\n",
    "avg_play_hour = []\n",
    "for record in records:\n",
    "    game_name.append(record['game_name'])\n",
    "    avg_play_hour.append(record['average_play_hour'])\n",
    "\n",
    "# Get games whether game_play_hour is greater than 20 hours\n",
    "game_play_hour = dict(zip(game_name, avg_play_hour))\n",
    "game20 = {key: value for key, value in game_play_hour.items() if value>20}\n",
    "\n",
    "with open('game_play_hour>20.json', 'w') as f:\n",
    "    json.dump(game20, f)\n",
    "\n",
    "# Close connection\n",
    "driver.close()"
   ]
  }
 ],
 "metadata": {
  "kernelspec": {
   "display_name": "base",
   "language": "python",
   "name": "python3"
  },
  "language_info": {
   "codemirror_mode": {
    "name": "ipython",
    "version": 3
   },
   "file_extension": ".py",
   "mimetype": "text/x-python",
   "name": "python",
   "nbconvert_exporter": "python",
   "pygments_lexer": "ipython3",
   "version": "3.9.12"
  },
  "orig_nbformat": 4
 },
 "nbformat": 4,
 "nbformat_minor": 2
}
