{
 "cells": [
  {
   "cell_type": "code",
   "execution_count": 1,
   "metadata": {},
   "outputs": [],
   "source": [
    "import networkx as nx\n",
    "import matplotlib.pyplot as plt"
   ]
  },
  {
   "attachments": {},
   "cell_type": "markdown",
   "metadata": {},
   "source": [
    "## BFS & DFS"
   ]
  },
  {
   "cell_type": "code",
   "execution_count": 13,
   "metadata": {},
   "outputs": [
    {
     "data": {
      "image/png": "[encoded data removed]",
      "text/plain": [
       "<Figure size 432x288 with 1 Axes>"
      ]
     },
     "metadata": {},
     "output_type": "display_data"
    }
   ],
   "source": [
    "G = nx.DiGraph()\n",
    "G.add_edge('A', 'B')\n",
    "G.add_edge('A', 'C')\n",
    "G.add_edge('B', 'D')\n",
    "G.add_edge('B', 'E')\n",
    "G.add_edge('E', 'F')\n",
    "G.add_edge('C', 'F')\n",
    "\n",
    "# Explicitly set positions\n",
    "pos = {\n",
    "    'A': (2,2), \n",
    "    'B': (1,1), \n",
    "    'C': (3,1),\n",
    "    'D': (0,0),\n",
    "    'E': (2,0),\n",
    "    'F': (4,0),\n",
    "}\n",
    "\n",
    "options = {\n",
    "    'font_size': 12,\n",
    "    'node_size': 3000,\n",
    "    'node_color': '#b7a9d5',\n",
    "    'edgecolors': '#47597aff',\n",
    "    'linewidths': 3,\n",
    "    'width': 3\n",
    "}\n",
    "\n",
    "nx.draw_networkx(G, pos, **options)\n",
    "\n",
    "# Set margins for the axes so that nodes aren't clipped\n",
    "ax = plt.gca()\n",
    "ax.margins(0.20)\n",
    "plt.axis('off')\n",
    "plt.show()"
   ]
  },
  {
   "cell_type": "code",
   "execution_count": 6,
   "metadata": {},
   "outputs": [
    {
     "name": "stdout",
     "output_type": "stream",
     "text": [
      "[('A', 'B'), ('A', 'C'), ('B', 'D'), ('B', 'E'), ('C', 'F')]\n",
      "[('A', 'B'), ('A', 'C'), ('B', 'D'), ('B', 'E'), ('E', 'F')]\n"
     ]
    }
   ],
   "source": [
    "print(nx.bfs_tree(G, 'A').edges())\n",
    "print(nx.dfs_tree(G, 'A').edges())"
   ]
  },
  {
   "attachments": {},
   "cell_type": "markdown",
   "metadata": {},
   "source": [
    "## Hand-made BFS & DFS"
   ]
  },
  {
   "cell_type": "code",
   "execution_count": 1,
   "metadata": {},
   "outputs": [
    {
     "name": "stdout",
     "output_type": "stream",
     "text": [
      "['A', 'B', 'D', 'E', 'C', 'F']\n",
      "['A', 'E', 'C', 'F', 'D', 'B']\n"
     ]
    }
   ],
   "source": [
    "#Graph\n",
    "graph = {\n",
    "    'A': [\"B\", \"D\", \"E\"],\n",
    "    'B': [\"A\", \"C\"],\n",
    "    'C': [\"B\", \"E\"],\n",
    "    'D': [\"A\", \"E\"],\n",
    "    'E': [\"A\", \"D\", \"F\", \"C\"],\n",
    "    'F': [\"E\"]     \n",
    "}\n",
    "def bfs(graph,start):\n",
    "    queue = []\n",
    "    queue.append(start)\n",
    "    result = []\n",
    "    visited = set()\n",
    "    visited.add(start)\n",
    "    while(len(queue)>0):\n",
    "        currentVertex = queue.pop(0)\n",
    "        result.append(currentVertex)\n",
    "        for neighbor in graph[currentVertex]:\n",
    "            if neighbor not in visited:\n",
    "                queue.append(neighbor)\n",
    "                visited.add(neighbor)\n",
    "    return result\n",
    "def dfs(graph,start):\n",
    "    stack = []\n",
    "    result = []\n",
    "    stack.append(start)\n",
    "    visited = set()\n",
    "    visited.add(start)\n",
    "    while(len(stack)>0):\n",
    "        currentVertex = stack.pop()\n",
    "        result.append(currentVertex)\n",
    "        for neighbor in graph[currentVertex]:\n",
    "            if neighbor not in visited:\n",
    "                stack.append(neighbor)\n",
    "                visited.add(neighbor)\n",
    "    return result\n",
    "\n",
    "\n",
    "print(bfs(graph,'A'))\n",
    "#['A', 'B', 'D', 'E', 'C', 'F']\n",
    "\n",
    "print(dfs(graph,'A'))\n",
    "#['A', 'E', 'C', 'F', 'D', 'B']"
   ]
  },
  {
   "cell_type": "code",
   "execution_count": null,
   "metadata": {},
   "outputs": [],
   "source": []
  }
 ],
 "metadata": {
  "kernelspec": {
   "display_name": "base",
   "language": "python",
   "name": "python3"
  },
  "language_info": {
   "codemirror_mode": {
    "name": "ipython",
    "version": 3
   },
   "file_extension": ".py",
   "mimetype": "text/x-python",
   "name": "python",
   "nbconvert_exporter": "python",
   "pygments_lexer": "ipython3",
   "version": "3.9.12"
  },
  "orig_nbformat": 4
 },
 "nbformat": 4,
 "nbformat_minor": 2
}
